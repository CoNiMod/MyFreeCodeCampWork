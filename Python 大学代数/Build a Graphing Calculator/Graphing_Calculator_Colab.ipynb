{
 "cells": [
  {
   "cell_type": "markdown",
   "metadata": {},
   "source": [
    "# 绘图计算器 - Graphing Calculator\\n\\n这是一个功能完整的Python绘图计算器，支持以下功能：\\n\\n✅ **绘制一个或多个函数**  \\n✅ **创建数值表**  \\n✅ **区域着色**  \\n✅ **求解并绘制方程组**  \\n✅ **缩放功能**  \\n✅ **求解二次方程**  \\n\\n## 安装依赖包"
   ]
  }
 ],
 "metadata": {
  "colab": {
   "provenance": []
  },
  "kernelspec": {
   "display_name": "Python 3",
   "language": "python",
   "name": "python3"
  },
  "language_info": {
   "codemirror_mode": {
    "name": "ipython",
    "version": 3
   },
   "file_extension": ".py",
   "language": "python",
   "mimetype": "text/x-python",
   "name": "python",
   "nbconvert_exporter": "python",
   "pygments_lexer": "ipython3",
   "version": "3.8.5"
  }
 },
 "nbformat": 4,
 "nbformat_minor": 0
}
